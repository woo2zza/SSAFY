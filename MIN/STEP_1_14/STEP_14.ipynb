{
 "cells": [
  {
   "cell_type": "markdown",
   "metadata": {},
   "source": [
    "14_1 "
   ]
  },
  {
   "cell_type": "code",
   "execution_count": 3,
   "metadata": {},
   "outputs": [
    {
     "name": "stdout",
     "output_type": "stream",
     "text": [
      "2 3 4 5\n"
     ]
    }
   ],
   "source": [
    "a, b = map(int,input().split())\n",
    "while True:\n",
    "    print(a, end = ' ')\n",
    "    a += 1\n",
    "    if a == b:\n",
    "        print(a)\n",
    "        break"
   ]
  },
  {
   "cell_type": "markdown",
   "metadata": {},
   "source": [
    "14_2"
   ]
  },
  {
   "cell_type": "code",
   "execution_count": 5,
   "metadata": {},
   "outputs": [
    {
     "name": "stdout",
     "output_type": "stream",
     "text": [
      "10 12 5 12 3 "
     ]
    }
   ],
   "source": [
    "arr = []\n",
    "for i in range(5):\n",
    "    number = list(map(int, input().split()))\n",
    "    arr.append(number)\n",
    "\n",
    "\n",
    "for j in range(5):\n",
    "    sum_1 = 0\n",
    "    for i in range(4):\n",
    "        sum_1 += arr[j][i]\n",
    "    print(sum_1, end = ' ')"
   ]
  },
  {
   "cell_type": "markdown",
   "metadata": {},
   "source": [
    "14_4"
   ]
  },
  {
   "cell_type": "code",
   "execution_count": 21,
   "metadata": {},
   "outputs": [
    {
     "name": "stdout",
     "output_type": "stream",
     "text": [
      "a b c e w f x f \n",
      "b c e w f x f \n",
      "c e w f x f \n",
      "e w f x f \n",
      "w f x f \n",
      "f x f \n",
      "x f \n",
      "f \n"
     ]
    }
   ],
   "source": [
    "st = list(input().split())\n",
    "\n",
    "for i in range(len(st)):\n",
    "    print(*st[i:], end = ' ')\n",
    "    print()\n",
    "\n"
   ]
  },
  {
   "cell_type": "markdown",
   "metadata": {},
   "source": [
    "14_5"
   ]
  },
  {
   "cell_type": "code",
   "execution_count": 31,
   "metadata": {},
   "outputs": [
    {
     "name": "stdout",
     "output_type": "stream",
     "text": [
      "[[1, 4, 2], [1, 5, 4], [3, 3, 9]]\n",
      "22\n"
     ]
    }
   ],
   "source": [
    "arr = []\n",
    "for i in range(3):\n",
    "    st = list(map(int, input().split()))\n",
    "    arr.append(st)\n",
    "\n",
    "sum = 0\n",
    "for x in range(3):\n",
    "    for y in range(x+1):\n",
    "        sum += arr[x][y]\n",
    "print(sum)"
   ]
  },
  {
   "cell_type": "markdown",
   "metadata": {},
   "source": [
    "14_6"
   ]
  },
  {
   "cell_type": "code",
   "execution_count": 34,
   "metadata": {},
   "outputs": [
    {
     "name": "stdout",
     "output_type": "stream",
     "text": [
      "4=0개\n",
      "1=2개\n",
      "2=2개\n",
      "3=2개\n"
     ]
    }
   ],
   "source": [
    "vect = [3, 5 ,1 ,1 ,2 ,3 ,2]\n",
    "number = list(map(int, input().split()))\n",
    "count = 0\n",
    "for num in number:\n",
    "    print(f'{num}={vect.count(num)}개')\n",
    "\n"
   ]
  },
  {
   "cell_type": "markdown",
   "metadata": {},
   "source": [
    "14_7"
   ]
  },
  {
   "cell_type": "code",
   "execution_count": 39,
   "metadata": {},
   "outputs": [
    {
     "name": "stdout",
     "output_type": "stream",
     "text": [
      "8 6 5 3 2 1\n"
     ]
    }
   ],
   "source": [
    "arr = list(map(int, input().split()))\n",
    "arr.sort(reverse = True)\n",
    "print(*arr, sep = '')"
   ]
  },
  {
   "cell_type": "markdown",
   "metadata": {},
   "source": [
    "14_8"
   ]
  },
  {
   "cell_type": "code",
   "execution_count": 75,
   "metadata": {},
   "outputs": [
    {
     "name": "stdout",
     "output_type": "stream",
     "text": [
      "adeffsv\n"
     ]
    }
   ],
   "source": [
    "st = list(input())\n",
    "st.sort()\n",
    "print(*st, sep='')"
   ]
  },
  {
   "cell_type": "markdown",
   "metadata": {},
   "source": [
    "14_9"
   ]
  },
  {
   "cell_type": "code",
   "execution_count": 52,
   "metadata": {},
   "outputs": [
    {
     "name": "stdout",
     "output_type": "stream",
     "text": [
      "15=5개\n",
      "35=3개\n",
      "80=0개\n",
      "35=3개\n",
      "45=1개\n",
      "5=6개\n"
     ]
    }
   ],
   "source": [
    "arr = [10, 50 ,40 ,20 ,30 ,40]\n",
    "num = list(map(int, input().split()))\n",
    "for n in num:\n",
    "    count = 0\n",
    "    for i in range(len(arr)):\n",
    "        if n <= arr[i]:\n",
    "            count += 1\n",
    "    print(f'{n}={count}개')"
   ]
  },
  {
   "cell_type": "markdown",
   "metadata": {},
   "source": [
    "14.5_2"
   ]
  },
  {
   "cell_type": "code",
   "execution_count": 55,
   "metadata": {},
   "outputs": [
    {
     "name": "stdout",
     "output_type": "stream",
     "text": [
      "1 \n",
      "1 2 \n",
      "1 2 3 \n",
      "1 2 3 4 \n",
      "1 2 3 4 5 \n"
     ]
    }
   ],
   "source": [
    "number = int(input())\n",
    "arr = []\n",
    "for i in range(5):\n",
    "    num = list(map(int, input().split()))\n",
    "    arr.append(num)\n",
    "\n",
    "if number == 1:\n",
    "    for x in range(5):\n",
    "        for y in range(x+1):\n",
    "            print(arr[x][y], end = ' ')\n",
    "        print()\n",
    "else:\n",
    "    for x in range(5):\n",
    "        for y in range(5-x):\n",
    "            print(arr[x][y], end = ' ')\n",
    "        print()\n",
    "        "
   ]
  },
  {
   "cell_type": "markdown",
   "metadata": {},
   "source": [
    "14.5_3"
   ]
  },
  {
   "cell_type": "code",
   "execution_count": 70,
   "metadata": {},
   "outputs": [
    {
     "name": "stdout",
     "output_type": "stream",
     "text": [
      "55555\n",
      "55555\n",
      "55555\n"
     ]
    }
   ],
   "source": [
    "num = int(input())\n",
    "\n",
    "arr = ([num]*5 for i in range(3))\n",
    "for i in arr:\n",
    "    print(*i , sep = '')\n"
   ]
  },
  {
   "cell_type": "markdown",
   "metadata": {},
   "source": [
    "14.5_5"
   ]
  },
  {
   "cell_type": "code",
   "execution_count": 78,
   "metadata": {},
   "outputs": [
    {
     "name": "stdout",
     "output_type": "stream",
     "text": [
      "AAAAABELNNPP\n"
     ]
    }
   ],
   "source": [
    "st1 = list(input())\n",
    "st2 = list(input())\n",
    "sorted_st = ''.join(sorted(st1 + st2))\n",
    "print(sorted_st)\n"
   ]
  },
  {
   "cell_type": "markdown",
   "metadata": {},
   "source": [
    "14.5_6"
   ]
  },
  {
   "cell_type": "code",
   "execution_count": 118,
   "metadata": {},
   "outputs": [
    {
     "name": "stdout",
     "output_type": "stream",
     "text": [
      "123\n",
      " 45\n",
      "  6\n"
     ]
    }
   ],
   "source": [
    "def magic(arr):\n",
    "    num = 1\n",
    "    for x in range(3):\n",
    "        for y in range(x,3):\n",
    "            arr[x][y] = num\n",
    "            num += 1\n",
    "    return arr\n",
    "\n",
    "arr = [[0] * 3 for i in range(3)]\n",
    "magic(arr)\n",
    "for i in range(3):\n",
    "    for j in range(3):\n",
    "        if arr[i][j] == 0:\n",
    "            print(' ', end='')\n",
    "        else:\n",
    "            print(arr[i][j], end='')\n",
    "    print()"
   ]
  },
  {
   "cell_type": "code",
   "execution_count": null,
   "metadata": {},
   "outputs": [],
   "source": []
  },
  {
   "cell_type": "code",
   "execution_count": null,
   "metadata": {},
   "outputs": [],
   "source": []
  }
 ],
 "metadata": {
  "kernelspec": {
   "display_name": "Python 3",
   "language": "python",
   "name": "python3"
  },
  "language_info": {
   "codemirror_mode": {
    "name": "ipython",
    "version": 3
   },
   "file_extension": ".py",
   "mimetype": "text/x-python",
   "name": "python",
   "nbconvert_exporter": "python",
   "pygments_lexer": "ipython3",
   "version": "3.10.5"
  },
  "orig_nbformat": 4
 },
 "nbformat": 4,
 "nbformat_minor": 2
}
