{
 "cells": [
  {
   "cell_type": "markdown",
   "metadata": {},
   "source": [
    "15_1"
   ]
  },
  {
   "cell_type": "code",
   "execution_count": 1,
   "metadata": {},
   "outputs": [
    {
     "name": "stdout",
     "output_type": "stream",
     "text": [
      "같음\n"
     ]
    }
   ],
   "source": [
    "st = list(input())\n",
    "st2 = list(input())\n",
    "if st == st2:\n",
    "    print('같음')\n",
    "else:\n",
    "    print('다름')"
   ]
  },
  {
   "cell_type": "markdown",
   "metadata": {},
   "source": [
    "15_2"
   ]
  },
  {
   "cell_type": "code",
   "execution_count": 9,
   "metadata": {},
   "outputs": [
    {
     "name": "stdout",
     "output_type": "stream",
     "text": [
      "숫자5\n",
      "숫자2\n",
      "숫자7\n",
      "숫자2\n"
     ]
    }
   ],
   "source": [
    "num = list(input())\n",
    "for i in range(len(num)):\n",
    "    print(f'숫자{num[i]}')"
   ]
  },
  {
   "cell_type": "markdown",
   "metadata": {},
   "source": [
    "15_4"
   ]
  },
  {
   "cell_type": "code",
   "execution_count": 10,
   "metadata": {},
   "outputs": [
    {
     "name": "stdout",
     "output_type": "stream",
     "text": [
      "거울문장\n"
     ]
    }
   ],
   "source": [
    "st = list(input())\n",
    "st1 = list(input())\n",
    "st1.reverse()\n",
    "if st == st1:\n",
    "    print('거울문장')\n",
    "else:\n",
    "    print('거울문장아님')"
   ]
  },
  {
   "cell_type": "code",
   "execution_count": 13,
   "metadata": {},
   "outputs": [
    {
     "name": "stdout",
     "output_type": "stream",
     "text": [
      "3 4 4 5\n"
     ]
    }
   ],
   "source": [
    "st1 = list(input())\n",
    "st2 = list(input())\n",
    "st3 = list(input())\n",
    "st4 = list(input())\n",
    "\n",
    "arr = []\n",
    "arr.append(len(st1))\n",
    "arr.append(len(st2))\n",
    "arr.append(len(st3))\n",
    "arr.append(len(st4))\n",
    "\n",
    "arr.sort()\n",
    "\n",
    "print(*arr)"
   ]
  },
  {
   "cell_type": "code",
   "execution_count": null,
   "metadata": {},
   "outputs": [],
   "source": []
  }
 ],
 "metadata": {
  "kernelspec": {
   "display_name": "Python 3",
   "language": "python",
   "name": "python3"
  },
  "language_info": {
   "codemirror_mode": {
    "name": "ipython",
    "version": 3
   },
   "file_extension": ".py",
   "mimetype": "text/x-python",
   "name": "python",
   "nbconvert_exporter": "python",
   "pygments_lexer": "ipython3",
   "version": "3.10.5"
  },
  "orig_nbformat": 4
 },
 "nbformat": 4,
 "nbformat_minor": 2
}
