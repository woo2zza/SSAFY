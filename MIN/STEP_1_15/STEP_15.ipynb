{
 "cells": [
  {
   "cell_type": "markdown",
   "metadata": {},
   "source": [
    "15_1"
   ]
  },
  {
   "cell_type": "code",
   "execution_count": 1,
   "metadata": {},
   "outputs": [
    {
     "name": "stdout",
     "output_type": "stream",
     "text": [
      "같음\n"
     ]
    }
   ],
   "source": [
    "st = list(input())\n",
    "st2 = list(input())\n",
    "if st == st2:\n",
    "    print('같음')\n",
    "else:\n",
    "    print('다름')"
   ]
  },
  {
   "cell_type": "markdown",
   "metadata": {},
   "source": [
    "15_2"
   ]
  },
  {
   "cell_type": "code",
   "execution_count": 9,
   "metadata": {},
   "outputs": [
    {
     "name": "stdout",
     "output_type": "stream",
     "text": [
      "숫자5\n",
      "숫자2\n",
      "숫자7\n",
      "숫자2\n"
     ]
    }
   ],
   "source": [
    "num = list(input())\n",
    "for i in range(len(num)):\n",
    "    print(f'숫자{num[i]}')"
   ]
  },
  {
   "cell_type": "markdown",
   "metadata": {},
   "source": [
    "15_4"
   ]
  },
  {
   "cell_type": "code",
   "execution_count": 10,
   "metadata": {},
   "outputs": [
    {
     "name": "stdout",
     "output_type": "stream",
     "text": [
      "거울문장\n"
     ]
    }
   ],
   "source": [
    "st = list(input())\n",
    "st1 = list(input())\n",
    "st1.reverse()\n",
    "if st == st1:\n",
    "    print('거울문장')\n",
    "else:\n",
    "    print('거울문장아님')"
   ]
  },
  {
   "cell_type": "markdown",
   "metadata": {},
   "source": [
    "15_5"
   ]
  },
  {
   "cell_type": "code",
   "execution_count": 13,
   "metadata": {},
   "outputs": [
    {
     "name": "stdout",
     "output_type": "stream",
     "text": [
      "3 4 4 5\n"
     ]
    }
   ],
   "source": [
    "st1 = list(input())\n",
    "st2 = list(input())\n",
    "st3 = list(input())\n",
    "st4 = list(input())\n",
    "\n",
    "arr = []\n",
    "arr.append(len(st1))\n",
    "arr.append(len(st2))\n",
    "arr.append(len(st3))\n",
    "arr.append(len(st4))\n",
    "\n",
    "arr.sort()\n",
    "\n",
    "print(*arr)"
   ]
  },
  {
   "cell_type": "markdown",
   "metadata": {},
   "source": [
    "15_7"
   ]
  },
  {
   "cell_type": "code",
   "execution_count": 2,
   "metadata": {},
   "outputs": [
    {
     "name": "stdout",
     "output_type": "stream",
     "text": [
      "A=마을사람\n",
      "P=외부사람\n",
      "L=외부사람\n",
      "Q=마을사람\n",
      "E=마을사람\n"
     ]
    }
   ],
   "source": [
    "arr= ['A','B','C','Z','E','T','Q']\n",
    "arr2 = list(input())\n",
    "\n",
    "for ar in arr2:\n",
    "    if ar in arr:\n",
    "        print(f'{ar}=마을사람')\n",
    "    else:\n",
    "        print(f'{ar}=외부사람')"
   ]
  },
  {
   "cell_type": "markdown",
   "metadata": {},
   "source": [
    "15_8"
   ]
  },
  {
   "cell_type": "code",
   "execution_count": 26,
   "metadata": {},
   "outputs": [],
   "source": [
    "# 다시"
   ]
  },
  {
   "cell_type": "markdown",
   "metadata": {},
   "source": [
    "15_9 (컴프리헨션으로 count, 배열다시만들기)"
   ]
  },
  {
   "cell_type": "code",
   "execution_count": 30,
   "metadata": {},
   "outputs": [
    {
     "name": "stdout",
     "output_type": "stream",
     "text": [
      "2\n"
     ]
    }
   ],
   "source": [
    "arrs = ['BBQWORLD','KFCAPPLE','LOT']\n",
    "st = input()\n",
    "arr2 = [list(arr) for arr in arrs]\n",
    "\n",
    "count = sum(arr.count(st) for arr in arrs)\n",
    "\n",
    "\n",
    "print(count)"
   ]
  },
  {
   "cell_type": "markdown",
   "metadata": {},
   "source": [
    "15_10 (+) 사용해서 print"
   ]
  },
  {
   "cell_type": "code",
   "execution_count": 39,
   "metadata": {},
   "outputs": [
    {
     "name": "stdout",
     "output_type": "stream",
     "text": [
      "4=asdf\n",
      "6=qweerw\n",
      "3=ddq\n"
     ]
    }
   ],
   "source": [
    "def countLine(arr):\n",
    "    for ar in arr:\n",
    "        print((f'{len(ar)}=')+(''.join(ar)))\n",
    "\n",
    "arr = []\n",
    "for i in range(3):\n",
    "    st = list(input())\n",
    "    arr.append(st)\n",
    "\n",
    "countLine(arr)"
   ]
  },
  {
   "cell_type": "markdown",
   "metadata": {},
   "source": [
    "15_11 배열안에 글자 찾기 (다시보기!!)"
   ]
  },
  {
   "cell_type": "code",
   "execution_count": 45,
   "metadata": {},
   "outputs": [
    {
     "name": "stdout",
     "output_type": "stream",
     "text": [
      "중발견\n"
     ]
    }
   ],
   "source": [
    "arr = [list(input()) for i in range(4) ]\n",
    "\n",
    "large = False\n",
    "medium = False\n",
    "for ar in arr:\n",
    "    if 'A' in ar and 'B' in ar:\n",
    "        large = True\n",
    "    elif 'A' in ar or 'B' in ar:\n",
    "        medium = True\n",
    "    \n",
    "if large:\n",
    "    print('대발견')\n",
    "elif medium:\n",
    "    print('중발견')\n",
    "else:\n",
    "    print('미발견')"
   ]
  },
  {
   "cell_type": "code",
   "execution_count": null,
   "metadata": {},
   "outputs": [],
   "source": [
    "st = input()\n",
    "Ord_st = ord(st)\n",
    "arr = []\n",
    "while "
   ]
  }
 ],
 "metadata": {
  "kernelspec": {
   "display_name": "Python 3",
   "language": "python",
   "name": "python3"
  },
  "language_info": {
   "codemirror_mode": {
    "name": "ipython",
    "version": 3
   },
   "file_extension": ".py",
   "mimetype": "text/x-python",
   "name": "python",
   "nbconvert_exporter": "python",
   "pygments_lexer": "ipython3",
   "version": "3.11.4"
  },
  "orig_nbformat": 4
 },
 "nbformat": 4,
 "nbformat_minor": 2
}
