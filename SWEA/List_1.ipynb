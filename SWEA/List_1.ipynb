{
 "cells": [
  {
   "cell_type": "code",
   "execution_count": 4,
   "metadata": {},
   "outputs": [
    {
     "ename": "IndexError",
     "evalue": "list index out of range",
     "output_type": "error",
     "traceback": [
      "\u001b[1;31m---------------------------------------------------------------------------\u001b[0m",
      "\u001b[1;31mIndexError\u001b[0m                                Traceback (most recent call last)",
      "Cell \u001b[1;32mIn[4], line 8\u001b[0m\n\u001b[0;32m      6\u001b[0m large_num \u001b[39m=\u001b[39m \u001b[39m0\u001b[39m\n\u001b[0;32m      7\u001b[0m \u001b[39mfor\u001b[39;00m i \u001b[39min\u001b[39;00m \u001b[39mrange\u001b[39m(\u001b[39mlen\u001b[39m(number)):\n\u001b[1;32m----> 8\u001b[0m     \u001b[39mif\u001b[39;00m number[i] \u001b[39m>\u001b[39m number[i \u001b[39m+\u001b[39;49m \u001b[39m1\u001b[39;49m]:\n\u001b[0;32m      9\u001b[0m         number[i], number[i \u001b[39m+\u001b[39m \u001b[39m1\u001b[39m] \u001b[39m=\u001b[39m number[i \u001b[39m+\u001b[39m \u001b[39m1\u001b[39m] , number[i]\n\u001b[0;32m     10\u001b[0m \u001b[39mfor\u001b[39;00m j \u001b[39min\u001b[39;00m \u001b[39mrange\u001b[39m(M):\n",
      "\u001b[1;31mIndexError\u001b[0m: list index out of range"
     ]
    }
   ],
   "source": [
    "testcase = int(input())\n",
    "for all in range(testcase):\n",
    "    N, M = map(int, input().split())\n",
    "    number = list(map(int, input().split()))\n",
    "    small_num = 0\n",
    "    large_num = 0\n",
    "    for i in range(len(number)):\n",
    "        if number[i] > number[i + 1]:\n",
    "            number[i], number[i + 1] = number[i + 1] , number[i]\n",
    "    for j in range(M):\n",
    "        small_num += number[j]\n",
    "    for j in range(-1,-M -1,-1):\n",
    "        large_num += number[j]    \n",
    "print(f'#{all} {large_num - small_num}')"
   ]
  },
  {
   "cell_type": "code",
   "execution_count": null,
   "metadata": {},
   "outputs": [],
   "source": [
    "\n"
   ]
  }
 ],
 "metadata": {
  "kernelspec": {
   "display_name": "Python 3",
   "language": "python",
   "name": "python3"
  },
  "language_info": {
   "codemirror_mode": {
    "name": "ipython",
    "version": 3
   },
   "file_extension": ".py",
   "mimetype": "text/x-python",
   "name": "python",
   "nbconvert_exporter": "python",
   "pygments_lexer": "ipython3",
   "version": "3.11.4"
  },
  "orig_nbformat": 4
 },
 "nbformat": 4,
 "nbformat_minor": 2
}
